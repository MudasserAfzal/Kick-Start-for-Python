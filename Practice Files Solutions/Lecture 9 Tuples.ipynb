{
 "cells": [
  {
   "cell_type": "markdown",
   "metadata": {
    "collapsed": true
   },
   "source": [
    "# Contents\n",
    "## 1. Tuples are sequences and immutable\n",
    "## 2. Comparing tuples\n",
    "## 3. Tuple assignment\n",
    "## 4. Dictionaries and tuples\n",
    "## 5. Multiple assignment with dictionaries\n",
    "## 6. Using tuples as keys in dictionaries"
   ]
  },
  {
   "cell_type": "markdown",
   "metadata": {},
   "source": [
    "# 1. Tuples are sequences and immutable"
   ]
  },
  {
   "cell_type": "markdown",
   "metadata": {},
   "source": [
    "1. A tuple is a sequence of values much like a list. \n",
    "2. The values stored in a tuple can be any type, and they are indexed by integers. \n",
    "3. The important difference is that tuples are immutable. \n",
    "4. Tuples are also comparable and hashable so we can sort lists of them and use tuples as key values in Python dictionaries."
   ]
  },
  {
   "cell_type": "code",
   "execution_count": null,
   "metadata": {},
   "outputs": [],
   "source": [
    "# Syntactically, a tuple is a comma-separated list of values:\n",
    "t = 'a', 'b', 'c', 'd', 'e'\n",
    "print (t)"
   ]
  },
  {
   "cell_type": "code",
   "execution_count": null,
   "metadata": {},
   "outputs": [],
   "source": [
    "t1 = ('a', 'b', 'c', 'd', 'e')\n",
    "print (t1)"
   ]
  },
  {
   "cell_type": "raw",
   "metadata": {},
   "source": [
    "How we can create a tuple with a single element?"
   ]
  },
  {
   "cell_type": "code",
   "execution_count": null,
   "metadata": {},
   "outputs": [],
   "source": [
    "t2 = 'a'\n",
    "type(t2)"
   ]
  },
  {
   "cell_type": "code",
   "execution_count": null,
   "metadata": {},
   "outputs": [],
   "source": [
    "t3 = 'b',\n",
    "type(t3)"
   ]
  },
  {
   "cell_type": "code",
   "execution_count": null,
   "metadata": {},
   "outputs": [],
   "source": [
    "t = tuple() # it creates an empty tuple:\n",
    "print (t)"
   ]
  },
  {
   "cell_type": "code",
   "execution_count": null,
   "metadata": {},
   "outputs": [],
   "source": [
    "# If the argument is a sequence (string, list or tuple), the result of the call to tuple\n",
    "# is a tuple with the elements of the sequence:\n",
    "t = tuple('lupins')\n",
    "print (t)"
   ]
  },
  {
   "cell_type": "raw",
   "metadata": {},
   "source": [
    "Most list operators also work on tuples. The bracket operator indexes an element:"
   ]
  },
  {
   "cell_type": "code",
   "execution_count": null,
   "metadata": {},
   "outputs": [],
   "source": [
    "t = ('a', 'b', 'c', 'd', 'e')\n",
    "print (t[0])"
   ]
  },
  {
   "cell_type": "code",
   "execution_count": null,
   "metadata": {},
   "outputs": [],
   "source": [
    "print (t[1:3])"
   ]
  },
  {
   "cell_type": "code",
   "execution_count": null,
   "metadata": {},
   "outputs": [],
   "source": [
    "# But if you try to modify one of the elements of the tuple, you get an error:\n",
    "t[0] = 'A'"
   ]
  },
  {
   "cell_type": "code",
   "execution_count": null,
   "metadata": {},
   "outputs": [],
   "source": [
    "# You can’t modify the elements of a tuple, but you can replace one tuple with another:\n",
    "t = ('A',)+ t[1:]\n",
    "print (t)"
   ]
  },
  {
   "cell_type": "code",
   "execution_count": null,
   "metadata": {},
   "outputs": [],
   "source": [
    "#State the difference between 'a' and 'b'\n",
    "a = 'a', 'b'\n",
    "b = ('a', 'b')"
   ]
  },
  {
   "cell_type": "markdown",
   "metadata": {},
   "source": [
    "# 2. Comparing tuples"
   ]
  },
  {
   "cell_type": "markdown",
   "metadata": {},
   "source": [
    "1. The comparison operators work with tuples and other sequences; Python starts by comparing the first element from each sequence. \n",
    "2. If they are equal, it goes on to the next element, and so on, until it finds elements that differ."
   ]
  },
  {
   "cell_type": "code",
   "execution_count": null,
   "metadata": {},
   "outputs": [],
   "source": [
    "(0, 5, 5) < (0, 3, 7)"
   ]
  },
  {
   "cell_type": "code",
   "execution_count": null,
   "metadata": {},
   "outputs": [],
   "source": [
    "(0, 1, 2000000) < (0, 3, 4)"
   ]
  },
  {
   "cell_type": "markdown",
   "metadata": {},
   "source": [
    "For example, suppose you have a list of words and you want to sort them from longest to shortest:"
   ]
  },
  {
   "cell_type": "code",
   "execution_count": null,
   "metadata": {},
   "outputs": [],
   "source": [
    "# Assignment: Sort the words w.r.t lenght (txt = 'but soft what light in yonder window breaks')\n",
    "\n",
    "txt = 'but soft what light in yonder window breaks'\n",
    "words = txt.split()\n",
    "t = list()\n",
    "for word in words:\n",
    "    t.append((len(word), word))\n",
    "# sort compares the first element, length, first, and only considers the second element\n",
    "# to break ties. The keyword argument reverse=True tells sort to go in decreasing order.\n",
    "t.sort(reverse=True) \n",
    "res = list()\n",
    "for length, word in t:\n",
    "    res.append(word)\n",
    "print (res)"
   ]
  },
  {
   "cell_type": "code",
   "execution_count": null,
   "metadata": {},
   "outputs": [],
   "source": [
    "t"
   ]
  },
  {
   "cell_type": "markdown",
   "metadata": {},
   "source": [
    "# 3. Tuple assignment"
   ]
  },
  {
   "cell_type": "markdown",
   "metadata": {},
   "source": [
    "One of the unique syntactic features of the Python language is the ability to have\n",
    "a tuple on the left hand side of an assignment statement.\n",
    "\n",
    "This allows you to assign\n",
    "more than one variable at a time when the left hand side is a sequence."
   ]
  },
  {
   "cell_type": "code",
   "execution_count": null,
   "metadata": {},
   "outputs": [],
   "source": [
    "m = [ 'have', 'fun' ]\n",
    "x, y = m"
   ]
  },
  {
   "cell_type": "code",
   "execution_count": null,
   "metadata": {},
   "outputs": [],
   "source": [
    "x"
   ]
  },
  {
   "cell_type": "code",
   "execution_count": null,
   "metadata": {},
   "outputs": [],
   "source": [
    "y"
   ]
  },
  {
   "cell_type": "code",
   "execution_count": null,
   "metadata": {},
   "outputs": [],
   "source": [
    "m = [ 'have', 'fun' ]\n",
    "x = m[0]\n",
    "y = m[1]"
   ]
  },
  {
   "cell_type": "code",
   "execution_count": null,
   "metadata": {},
   "outputs": [],
   "source": [
    "m = [ 'have', 'fun' ]\n",
    "(x, y) = m"
   ]
  },
  {
   "cell_type": "code",
   "execution_count": null,
   "metadata": {},
   "outputs": [],
   "source": [
    "x"
   ]
  },
  {
   "cell_type": "code",
   "execution_count": null,
   "metadata": {},
   "outputs": [],
   "source": [
    "y"
   ]
  },
  {
   "cell_type": "code",
   "execution_count": null,
   "metadata": {},
   "outputs": [],
   "source": [
    "# Swap two variables without using temprary variable"
   ]
  },
  {
   "cell_type": "raw",
   "metadata": {},
   "source": [
    "A particularly clever application of tuple assignment allows us to swap the values\n",
    "of two variables in a single statement:"
   ]
  },
  {
   "cell_type": "code",
   "execution_count": null,
   "metadata": {},
   "outputs": [],
   "source": [
    "a = 10\n",
    "b = 20\n",
    "c, d = b, a"
   ]
  },
  {
   "cell_type": "code",
   "execution_count": null,
   "metadata": {},
   "outputs": [],
   "source": [
    "c"
   ]
  },
  {
   "cell_type": "raw",
   "metadata": {},
   "source": [
    "Both sides of this statement are tuples, but the left side is a tuple of variables; the\n",
    "right side is a tuple of expressions. \n",
    "Each value on the right side is assigned to its respective variable on the left side. \n",
    "All the expressions on the right side are evaluated before any of the assignments."
   ]
  },
  {
   "cell_type": "code",
   "execution_count": null,
   "metadata": {},
   "outputs": [],
   "source": [
    "# The number of variables on the left and the number of values on the right have to\n",
    "# be the same:\n",
    "a, b = 1, 2, 3"
   ]
  },
  {
   "cell_type": "raw",
   "metadata": {},
   "source": [
    "More generally, the right side can be any kind of sequence (string, list or tuple).\n",
    "For example, to split an email address into a user name and a domain, you could\n",
    "write:"
   ]
  },
  {
   "cell_type": "code",
   "execution_count": null,
   "metadata": {},
   "outputs": [],
   "source": [
    "addr = 'monty@python.org'\n",
    "uname, domain = addr.split('@')\n",
    "print (uname, domain)"
   ]
  },
  {
   "cell_type": "markdown",
   "metadata": {},
   "source": [
    "# 4. Dictionaries and tuples"
   ]
  },
  {
   "cell_type": "markdown",
   "metadata": {},
   "source": [
    "Dictionaries have a method called items that returns a list of tuples, where each\n",
    "tuple is a key-value pair"
   ]
  },
  {
   "cell_type": "code",
   "execution_count": null,
   "metadata": {},
   "outputs": [],
   "source": [
    "d = {'a':10, 'd':1,'b':1, 'c':22}\n",
    "t = d.items()\n",
    "print(t)"
   ]
  },
  {
   "cell_type": "raw",
   "metadata": {},
   "source": [
    "However, since the list of tuples is a list, and tuples are comparable, we can now\n",
    "sort the list of tuples. Converting a dictionary to a list of tuples is a way for us to\n",
    "output the contents of a dictionary sorted by key:"
   ]
  },
  {
   "cell_type": "code",
   "execution_count": null,
   "metadata": {},
   "outputs": [],
   "source": [
    "#t = list(d.items())\n",
    "t = d.items()\n",
    "t"
   ]
  },
  {
   "cell_type": "code",
   "execution_count": null,
   "metadata": {},
   "outputs": [],
   "source": [
    "t.sort()\n",
    "t"
   ]
  },
  {
   "cell_type": "markdown",
   "metadata": {},
   "source": [
    "# 5. Multiple assignment with dictionaries"
   ]
  },
  {
   "cell_type": "code",
   "execution_count": null,
   "metadata": {},
   "outputs": [],
   "source": [
    "for key, val in d.items():\n",
    "    print (val, key)"
   ]
  },
  {
   "cell_type": "markdown",
   "metadata": {},
   "source": [
    "### Assignment: contents of a dictionary sorted by the value stored in each key/value pair."
   ]
  },
  {
   "cell_type": "code",
   "execution_count": null,
   "metadata": {},
   "outputs": [],
   "source": [
    "d = {'a':10, 'd':1,'b':1, 'c':22}\n",
    "l = list()\n",
    "for key, val in d.items():\n",
    "    l.append( (val, key) )\n",
    "print (l)\n",
    "l.sort(reverse=True)\n",
    "print(l)"
   ]
  },
  {
   "cell_type": "markdown",
   "metadata": {},
   "source": [
    "# Assignment: The most common words"
   ]
  },
  {
   "cell_type": "markdown",
   "metadata": {},
   "source": [
    "# 6. Using tuples as keys in dictionaries"
   ]
  },
  {
   "cell_type": "markdown",
   "metadata": {},
   "source": [
    "1. Because tuples are hashable and lists are not, if we want to create a composite key to use in a dictionary we must use a tuple as the key.\n",
    "2. We would encounter a composite key if we wanted to create a telephone directory that maps from last-name, first-name pairs to telephone numbers. \n",
    "3. Assuming that we have defined the variables last, first and number, we could write a dictionary assignment statement as follows:"
   ]
  },
  {
   "cell_type": "code",
   "execution_count": null,
   "metadata": {},
   "outputs": [],
   "source": [
    "teldic = dict()\n",
    "teldic['muhammad','kamran']=23334\n",
    "teldic['muhammad', 'ali'] = 43333\n",
    "teldic['ahmad','khan']= 3322\n",
    "teldic"
   ]
  },
  {
   "cell_type": "code",
   "execution_count": null,
   "metadata": {},
   "outputs": [],
   "source": [
    "for last, first in teldic:\n",
    "    print (first, last, teldic[last,first])"
   ]
  },
  {
   "cell_type": "code",
   "execution_count": null,
   "metadata": {},
   "outputs": [],
   "source": [
    "for a in teldic:\n",
    "    print (a, teldic[a])"
   ]
  },
  {
   "cell_type": "markdown",
   "metadata": {},
   "source": [
    "# Sequences: strings, lists, and tuples"
   ]
  },
  {
   "cell_type": "markdown",
   "metadata": {},
   "source": [
    "### In many contexts, the different kinds of sequences (strings, lists and tuples) can be used interchangeably. So how and why do you choose one over the others?"
   ]
  },
  {
   "cell_type": "markdown",
   "metadata": {
    "collapsed": true
   },
   "source": []
  },
  {
   "cell_type": "markdown",
   "metadata": {},
   "source": [
    "# Exercises:"
   ]
  },
  {
   "cell_type": "code",
   "execution_count": null,
   "metadata": {},
   "outputs": [],
   "source": [
    "#Q1: For your answer to the above question, print the word frequencies of the words in decreasing order"
   ]
  },
  {
   "cell_type": "code",
   "execution_count": null,
   "metadata": {},
   "outputs": [],
   "source": [
    "#Q2: For the answer to the same question as used above, swap each word at an even ondex with the word at the next odd index"
   ]
  },
  {
   "cell_type": "code",
   "execution_count": null,
   "metadata": {},
   "outputs": [],
   "source": [
    "#Q3: Using the term frequencies calculated in Q1, make a dictionary and access the key value pairs"
   ]
  },
  {
   "cell_type": "code",
   "execution_count": null,
   "metadata": {},
   "outputs": [],
   "source": [
    "#Q4: Make a dictionary of your family members (full names) and friend [make a dictionary of 10 people max] \n",
    "#and the mobile connection that they use. Make composite keys of the\n",
    "#surnames and the connection used and sort your data accordigly "
   ]
  }
 ],
 "metadata": {
  "kernelspec": {
   "display_name": "Python 3",
   "language": "python",
   "name": "python3"
  },
  "language_info": {
   "codemirror_mode": {
    "name": "ipython",
    "version": 3
   },
   "file_extension": ".py",
   "mimetype": "text/x-python",
   "name": "python",
   "nbconvert_exporter": "python",
   "pygments_lexer": "ipython3",
   "version": "3.6.5"
  }
 },
 "nbformat": 4,
 "nbformat_minor": 2
}
