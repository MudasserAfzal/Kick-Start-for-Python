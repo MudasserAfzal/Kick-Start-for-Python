{
 "cells": [
  {
   "cell_type": "markdown",
   "metadata": {},
   "source": [
    "# Contents\n",
    "## 1. Opening files\n",
    "## 2. Reading files\n",
    "## 3. Using try, except, and open\n",
    "## 4. Writing files"
   ]
  },
  {
   "cell_type": "markdown",
   "metadata": {},
   "source": [
    "# 1. Opening files"
   ]
  },
  {
   "cell_type": "code",
   "execution_count": 23,
   "metadata": {},
   "outputs": [],
   "source": [
    "fhand = open('test.txt')"
   ]
  },
  {
   "cell_type": "code",
   "execution_count": 24,
   "metadata": {},
   "outputs": [
    {
     "name": "stdout",
     "output_type": "stream",
     "text": [
      "<_io.TextIOWrapper name='test.txt' mode='r' encoding='cp1252'>\n"
     ]
    }
   ],
   "source": [
    "print (fhand)"
   ]
  },
  {
   "cell_type": "code",
   "execution_count": 3,
   "metadata": {},
   "outputs": [
    {
     "ename": "FileNotFoundError",
     "evalue": "[Errno 2] No such file or directory: 'test1.txt'",
     "output_type": "error",
     "traceback": [
      "\u001b[1;31m---------------------------------------------------------------------------\u001b[0m",
      "\u001b[1;31mFileNotFoundError\u001b[0m                         Traceback (most recent call last)",
      "\u001b[1;32m<ipython-input-3-6c0fdb9908a0>\u001b[0m in \u001b[0;36m<module>\u001b[1;34m\u001b[0m\n\u001b[1;32m----> 1\u001b[1;33m \u001b[0mfhand\u001b[0m \u001b[1;33m=\u001b[0m \u001b[0mopen\u001b[0m\u001b[1;33m(\u001b[0m\u001b[1;34m'test1.txt'\u001b[0m\u001b[1;33m)\u001b[0m\u001b[1;33m\u001b[0m\u001b[1;33m\u001b[0m\u001b[0m\n\u001b[0m",
      "\u001b[1;31mFileNotFoundError\u001b[0m: [Errno 2] No such file or directory: 'test1.txt'"
     ]
    }
   ],
   "source": [
    "fhand = open('test1.txt')"
   ]
  },
  {
   "cell_type": "markdown",
   "metadata": {},
   "source": [
    "# 2. Reading files"
   ]
  },
  {
   "cell_type": "code",
   "execution_count": 4,
   "metadata": {},
   "outputs": [
    {
     "name": "stdout",
     "output_type": "stream",
     "text": [
      "Tony Blair became \"obsessed\" with creating of bringing the UK together,\n",
      "\n",
      "their former prime minister the has revealed.\n",
      "\n",
      "Rebel Tories and Labour MPs are planning a bill to stop the UK leaving the EU on 31 October without a deal.\n",
      "\n",
      "\n",
      "\n",
      "Mr Johnson said he did not want an election, but progress with the EU would be \"impossible\" if the MPs win.\n",
      "\n",
      "\n",
      "\n",
      "Jeremy Corbyn said the Labour Party was ready for a general election.\n",
      "\n",
      "\n",
      "\n",
      "But shadow Northern Ireland secretary Tony Lloyd later said Labour would vote against any government plans to hold a general election before the UK is due to leave the EU on 31 October.\n",
      "\n",
      "\n",
      "\n",
      "He said Labour \"will not have Boris Johnson dictate the terms of an election that crashes this country out with no deal\".\n",
      "\n",
      "Line Count: 11\n"
     ]
    }
   ],
   "source": [
    "# counting no of line\n",
    "fhand = open('test.txt')\n",
    "count = 0\n",
    "for line in fhand:\n",
    "    print (line)\n",
    "    count = count + 1\n",
    "print ('Line Count:', count)"
   ]
  },
  {
   "cell_type": "code",
   "execution_count": null,
   "metadata": {},
   "outputs": [],
   "source": []
  },
  {
   "cell_type": "code",
   "execution_count": 5,
   "metadata": {},
   "outputs": [
    {
     "data": {
      "text/plain": [
       "716"
      ]
     },
     "execution_count": 5,
     "metadata": {},
     "output_type": "execute_result"
    }
   ],
   "source": [
    "fhand = open('test.txt')\n",
    "inp = fhand.read()\n",
    "len(inp)"
   ]
  },
  {
   "cell_type": "code",
   "execution_count": 6,
   "metadata": {},
   "outputs": [
    {
     "data": {
      "text/plain": [
       "'Tony Blair'"
      ]
     },
     "execution_count": 6,
     "metadata": {},
     "output_type": "execute_result"
    }
   ],
   "source": [
    "inp[:10]"
   ]
  },
  {
   "cell_type": "code",
   "execution_count": 7,
   "metadata": {},
   "outputs": [
    {
     "data": {
      "text/plain": [
       "'ging the UK together,\\ntheir former prime minister the has revealed.\\nRebel Tories and Labour MPs are planning a bill to stop the UK leaving the EU on 31 October without a deal.\\n\\nMr Johnson said he did not want an election, but progress with the EU would be \"impossible\" if the MPs win.\\n\\nJeremy Corbyn said the Labour Party was ready for a general election.\\n\\nBut shadow Northern Ireland secretary Tony Lloyd later said Labour would vote against any government plans to hold a general election before the UK is due to leave the EU on 31 October.\\n\\nHe said Labour \"will not have Boris Johnson dictate the terms of an election that crashes this country out with no deal\".\\n'"
      ]
     },
     "execution_count": 7,
     "metadata": {},
     "output_type": "execute_result"
    }
   ],
   "source": [
    "inp[50:]"
   ]
  },
  {
   "cell_type": "code",
   "execution_count": 29,
   "metadata": {},
   "outputs": [
    {
     "name": "stdout",
     "output_type": "stream",
     "text": [
      "He said Labour \"will not have Boris Johnson dictate the terms of an election that crashes this country out with no deal\".\n",
      "\n",
      "\n",
      "\n",
      "But shadow Northern Ireland secretary Tony Lloyd later said Labour would vote against any government plans to hold a general election before the UK is due to leave the EU on 31 October.\n",
      "\n",
      "\n",
      "\n",
      "Jeremy Corbyn said the Labour Party was ready for a general election.\n",
      "\n",
      "\n",
      "\n",
      "Mr Johnson said he did not want an election, but progress with the EU would be \"impossible\" if the MPs win.\n",
      "\n",
      "\n",
      "\n",
      "Rebel Tories and Labour MPs are planning a bill to stop the UK leaving the EU on 31 October without a deal.\n",
      "\n",
      "their former prime minister the has revealed.\n",
      "\n",
      "Tony Blair became \"obsessed\" with creating of bringing the UK together,\n",
      "\n"
     ]
    }
   ],
   "source": [
    "#read the file line by line and print it in reverse order\n",
    "fhand = open('test.txt','r')\n",
    "count = 0\n",
    "for lines in reversed(fhand.readlines()):\n",
    "    print(lines)\n"
   ]
  },
  {
   "cell_type": "code",
   "execution_count": 40,
   "metadata": {},
   "outputs": [
    {
     "name": "stdout",
     "output_type": "stream",
     "text": [
      "\n",
      ".\"laed on htiw tuo yrtnuoc siht sehsarc taht noitcele na fo smret eht etatcid nosnhoJ siroB evah ton lliw\" ruobaL dias eH\n",
      "\n",
      "\n",
      "\n",
      ".rebotcO 13 no UE eht evael ot eud si KU eht erofeb noitcele lareneg a dloh ot snalp tnemnrevog yna tsniaga etov dluow ruobaL dias retal dyolL ynoT yraterces dnalerI nrehtroN wodahs tuB\n",
      "\n",
      "\n",
      "\n",
      ".noitcele lareneg a rof ydaer saw ytraP ruobaL eht dias nybroC ymereJ\n",
      "\n",
      "\n",
      "\n",
      ".niw sPM eht fi \"elbissopmi\" eb dluow UE eht htiw ssergorp tub ,noitcele na tnaw ton did eh dias nosnhoJ rM\n",
      "\n",
      "\n",
      "\n",
      ".laed a tuohtiw rebotcO 13 no UE eht gnivael KU eht pots ot llib a gninnalp era sPM ruobaL dna seiroT lebeR\n",
      "\n",
      ".delaever sah eht retsinim emirp remrof rieht\n",
      "\n",
      ",rehtegot KU eht gnignirb fo gnitaerc htiw \"dessesbo\" emaceb rialB ynoT\n"
     ]
    }
   ],
   "source": [
    "# read the complete file and reverse its words and store it in a new file \"reverse.txt\"\n",
    "#fhand = open('test.txt')\n",
    "#inp = fhand.read()\n",
    "#len(inp)\n",
    "\n",
    "#for letter in range(len(inp-1), inp[1]):\n",
    "#    print(letter)\n",
    "fhand = open('test.txt','r')\n",
    "f= open(\"reverse.txt\",'w')\n",
    "count = 0\n",
    "for lines in reversed(fhand.readlines()):\n",
    "    #print(lines)\n",
    "    lines = lines[-1::-1]\n",
    "    print(lines)\n",
    "    f.write(lines)\n",
    "    "
   ]
  },
  {
   "cell_type": "markdown",
   "metadata": {},
   "source": [
    "# 3. Using try, except, and open"
   ]
  },
  {
   "cell_type": "code",
   "execution_count": 8,
   "metadata": {},
   "outputs": [
    {
     "name": "stdout",
     "output_type": "stream",
     "text": [
      "Enter the file name: test.txt\n",
      "There were 11  lines in test.txt\n"
     ]
    }
   ],
   "source": [
    "fname = input('Enter the file name: ')\n",
    "#fname = 'test.txt'\n",
    "try:\n",
    "    fhand = open(fname)\n",
    "except:\n",
    "    print ('File cannot be opened:', fname)\n",
    "    exit()\n",
    "count = 0\n",
    "for line in fhand:\n",
    "    #if line.startswith('Subject:') :\n",
    "    count = count + 1\n",
    "print ('There were', count, ' lines in', fname)"
   ]
  },
  {
   "cell_type": "code",
   "execution_count": null,
   "metadata": {},
   "outputs": [],
   "source": []
  },
  {
   "cell_type": "markdown",
   "metadata": {},
   "source": [
    "# 4. Writing files"
   ]
  },
  {
   "cell_type": "code",
   "execution_count": 9,
   "metadata": {},
   "outputs": [],
   "source": [
    "fout = open('out.txt', 'w')"
   ]
  },
  {
   "cell_type": "code",
   "execution_count": 10,
   "metadata": {},
   "outputs": [],
   "source": [
    "line1 = \"This here's the wattle,\\n\"\n",
    "fout.write(line1)\n",
    "fout.close()"
   ]
  },
  {
   "cell_type": "code",
   "execution_count": 11,
   "metadata": {},
   "outputs": [],
   "source": [
    "s = '1 2\\t 3\\n 4'"
   ]
  },
  {
   "cell_type": "code",
   "execution_count": 12,
   "metadata": {},
   "outputs": [
    {
     "name": "stdout",
     "output_type": "stream",
     "text": [
      "1 2\t 3\n",
      " 4\n"
     ]
    }
   ],
   "source": [
    "print(s)"
   ]
  },
  {
   "cell_type": "code",
   "execution_count": 13,
   "metadata": {},
   "outputs": [
    {
     "name": "stdout",
     "output_type": "stream",
     "text": [
      "'1 2\\t 3\\n 4'\n"
     ]
    }
   ],
   "source": [
    "print (repr(s))"
   ]
  },
  {
   "cell_type": "markdown",
   "metadata": {},
   "source": [
    "# Exercises:"
   ]
  },
  {
   "cell_type": "code",
   "execution_count": 51,
   "metadata": {},
   "outputs": [
    {
     "name": "stdout",
     "output_type": "stream",
     "text": [
      "1\n",
      "2\n",
      "3\n",
      "4\n",
      "5\n",
      "6\n",
      "7\n",
      "8\n",
      "9\n",
      "10\n",
      "11\n",
      "12\n",
      "13\n",
      "14\n",
      "15\n",
      "16\n",
      "17\n",
      "18\n",
      "19\n",
      "20\n",
      "21\n",
      "22\n",
      "23\n",
      "24\n",
      "25\n",
      "26\n",
      "27\n",
      "28\n",
      "29\n",
      "30\n",
      "31\n",
      "32\n",
      "33\n",
      "34\n",
      "35\n",
      "36\n",
      "37\n",
      "38\n",
      "39\n",
      "40\n",
      "41\n",
      "42\n",
      "43\n",
      "44\n",
      "45\n",
      "46\n",
      "47\n",
      "48\n",
      "49\n",
      "50\n",
      "51\n",
      "52\n",
      "53\n",
      "54\n",
      "55\n",
      "56\n",
      "57\n",
      "58\n",
      "59\n",
      "60\n",
      "61\n",
      "62\n",
      "63\n",
      "64\n",
      "65\n",
      "66\n",
      "67\n",
      "68\n",
      "69\n",
      "70\n",
      "71\n",
      "72\n",
      "73\n",
      "74\n",
      "75\n",
      "76\n",
      "77\n",
      "78\n",
      "79\n",
      "80\n",
      "81\n",
      "82\n",
      "83\n",
      "84\n",
      "85\n",
      "86\n",
      "87\n",
      "88\n",
      "89\n",
      "90\n",
      "91\n",
      "92\n",
      "93\n",
      "94\n",
      "95\n",
      "96\n",
      "97\n",
      "98\n",
      "99\n"
     ]
    }
   ],
   "source": [
    "#create a new file having name \"Numbers.txt\" and write counting 1-100 using for loop\n",
    "file = open(\"Numbers.txt\",'w')\n",
    "count = 1\n",
    "for count in range(1, 100):\n",
    "    print(count)\n",
    "    file.write(str(count))\n",
    "    i = i + 1"
   ]
  },
  {
   "cell_type": "code",
   "execution_count": 62,
   "metadata": {},
   "outputs": [
    {
     "name": "stdout",
     "output_type": "stream",
     "text": [
      "name: Mudasser \n",
      "age: 21 \n",
      "University: ITU \n",
      "class : MS \n",
      "roll: 19067 \n",
      "Mudasser \n",
      "21\n",
      "ITU \n",
      "MS \n",
      "19067\n"
     ]
    }
   ],
   "source": [
    "#create a new file having name \"Info.txt\" and save your firends info in that file\n",
    "# You should ask for name, age, university, class, roll number using input command from your frind and store it in the file one by one\n",
    "file = open(\"info.txt\",\"w\")\n",
    "\n",
    "name = input('name: ')\n",
    "name = str(name)\n",
    "\n",
    "age = input('age: ')\n",
    "age = int(age)\n",
    "\n",
    "university = input('University: ')\n",
    "university = str(university)\n",
    "\n",
    "cls = input('class : ')\n",
    "cls = str(cls)\n",
    "\n",
    "roll = input('roll: ')\n",
    "roll = int(roll)\n",
    "\n",
    "\n",
    "list = [name, age, university, cls, roll]\n",
    "\n",
    "\n",
    "for line in list:\n",
    "    print(line)\n",
    "    file.write(str(line))\n"
   ]
  },
  {
   "cell_type": "code",
   "execution_count": 58,
   "metadata": {},
   "outputs": [
    {
     "data": {
      "text/plain": [
       "5"
      ]
     },
     "execution_count": 58,
     "metadata": {},
     "output_type": "execute_result"
    }
   ],
   "source": []
  },
  {
   "cell_type": "code",
   "execution_count": 65,
   "metadata": {},
   "outputs": [
    {
     "name": "stdout",
     "output_type": "stream",
     "text": [
      "Mudasser21ITUMS67\n",
      "Line Count: 1\n"
     ]
    }
   ],
   "source": [
    "## Find the line count of file info.txt\n",
    "x = open('info.txt')\n",
    "count = 0\n",
    "for line in x:\n",
    "    print (line)\n",
    "    count = count + 1\n",
    "print ('Line Count:', count)\n"
   ]
  },
  {
   "cell_type": "code",
   "execution_count": 68,
   "metadata": {},
   "outputs": [
    {
     "data": {
      "text/plain": [
       "'MS67'"
      ]
     },
     "execution_count": 68,
     "metadata": {},
     "output_type": "execute_result"
    }
   ],
   "source": [
    "## print the characters at the 13th to 21st index\n",
    "x = open('info.txt')\n",
    "inp = x.read()\n",
    "inp[13:21]"
   ]
  },
  {
   "cell_type": "code",
   "execution_count": 4,
   "metadata": {},
   "outputs": [
    {
     "data": {
      "text/plain": [
       "682"
      ]
     },
     "execution_count": 4,
     "metadata": {},
     "output_type": "execute_result"
    }
   ],
   "source": [
    "file = open('UrduNumbers.txt', encoding='utf-8')\n",
    "file = file.read()\n",
    "len(file)"
   ]
  },
  {
   "cell_type": "code",
   "execution_count": 6,
   "metadata": {},
   "outputs": [
    {
     "name": "stdout",
     "output_type": "stream",
     "text": [
      "دو\n",
      "\n",
      "چار\n",
      "\n",
      "چھ\n",
      "\n",
      "آٹھ\n",
      "\n",
      "دس\n",
      "\n",
      "بارہ\n",
      "\n",
      "چودہ\n",
      "\n",
      "سولہ\n",
      "\n",
      "اٹھارہ\n",
      "\n",
      "بیس\n",
      "\n",
      "بائیس\n",
      "\n",
      "چوبیس\n",
      "\n",
      "چھبیس\n",
      "\n",
      "اٹھائیس\n",
      "\n",
      "تیس\n",
      "\n",
      "بتیس\n",
      "\n",
      "تیتس\n",
      "\n",
      "چوتیس\n",
      "\n",
      "چھتیس\n",
      "\n",
      "اٹھتیس\n",
      "\n",
      "چالیس\n",
      "\n",
      "بیالیس\n",
      "\n",
      "ترتالیس\n",
      "\n",
      "پینتالیس\n",
      "\n",
      "سینتالیس\n",
      "\n",
      "انچاس\n",
      "\n",
      "اکیاون\n",
      "\n",
      "باون\n",
      "\n",
      "ترپین\n",
      "\n",
      "پچپن\n",
      "\n",
      "ستاون\n",
      "\n",
      "انسٹھ\n",
      "\n",
      "اکسٹھ\n",
      "\n",
      "تریسٹھ\n",
      "\n",
      "چوسٹھ\n",
      "\n",
      "پینسٹھ\n",
      "\n",
      "سرسٹھ\n",
      "\n",
      "انہتر\n",
      "\n",
      "ستر\n",
      "\n",
      "اکھتر\n",
      "\n",
      "بہتر\n",
      "\n",
      "چوھتر\n",
      "\n",
      "پچہتر\n",
      "\n",
      "ستتر\n",
      "\n",
      "اٹھہتر\n",
      "\n",
      "اسی\n",
      "\n",
      "بیاسی\n",
      "\n",
      "چوراسی\n",
      "\n",
      "چھیاسی\n",
      "\n",
      "اٹھاسی\n",
      "\n",
      "نوے\n",
      "\n",
      "اکیانوے\n",
      "\n",
      "بانوۓ\n",
      "\n",
      "چورانوے\n",
      "\n",
      "چھیانوے\n",
      "\n",
      "اٹھانوے\n",
      "\n",
      "سو\n"
     ]
    }
   ],
   "source": [
    "#open the file \"UrduNumbers.txt\" and print the even numbers, Use an additional parameter encoding='utf-8'\n",
    "file = open('UrduNumbers.txt', encoding='utf-8')\n",
    "# file = file.read()\n",
    "count = 0\n",
    "for lines in file:\n",
    "    count = count + 1\n",
    "    if (count % 2 == 0):\n",
    "        print(lines)\n",
    "    else:\n",
    "        pass\n",
    "        \n",
    "\n",
    "        "
   ]
  },
  {
   "cell_type": "code",
   "execution_count": 11,
   "metadata": {},
   "outputs": [],
   "source": [
    "#Create a new text file \"MSDS.txt\" and open it in a new file handler\n",
    "list = [1, 2, 3, 4]\n",
    "file = open('MSDS.txt','w')\n",
    "for word in list:\n",
    "    file.write(str(word))\n",
    "file.close()\n",
    "\n",
    "            "
   ]
  },
  {
   "cell_type": "code",
   "execution_count": 12,
   "metadata": {},
   "outputs": [
    {
     "data": {
      "text/plain": [
       "'1234'"
      ]
     },
     "execution_count": 12,
     "metadata": {},
     "output_type": "execute_result"
    }
   ],
   "source": [
    "x = open('MSDS.txt')\n",
    "x.read()"
   ]
  },
  {
   "cell_type": "code",
   "execution_count": null,
   "metadata": {},
   "outputs": [],
   "source": []
  }
 ],
 "metadata": {
  "kernelspec": {
   "display_name": "Python 3",
   "language": "python",
   "name": "python3"
  },
  "language_info": {
   "codemirror_mode": {
    "name": "ipython",
    "version": 3
   },
   "file_extension": ".py",
   "mimetype": "text/x-python",
   "name": "python",
   "nbconvert_exporter": "python",
   "pygments_lexer": "ipython3",
   "version": "3.6.8"
  }
 },
 "nbformat": 4,
 "nbformat_minor": 2
}
